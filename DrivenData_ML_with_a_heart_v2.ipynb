{
  "nbformat": 4,
  "nbformat_minor": 0,
  "metadata": {
    "colab": {
      "name": "DrivenData_ML with a heart_v2.ipynb",
      "provenance": [],
      "collapsed_sections": [],
      "toc_visible": true
    },
    "kernelspec": {
      "name": "python3",
      "display_name": "Python 3"
    },
    "accelerator": "GPU"
  },
  "cells": [
    {
      "cell_type": "markdown",
      "metadata": {
        "id": "to3bkRQjDEBw",
        "colab_type": "text"
      },
      "source": [
        "# Import modules, model, metrics and data"
      ]
    },
    {
      "cell_type": "code",
      "metadata": {
        "id": "aE3Iii2cwddE",
        "colab_type": "code",
        "colab": {}
      },
      "source": [
        "import pandas as pd\n",
        "import numpy as np\n",
        "import xgboost as XGB\n",
        "import matplotlib.pyplot as plt\n",
        "import seaborn as sns\n",
        "from sklearn.model_selection import GridSearchCV, train_test_split\n",
        "from sklearn.metrics import log_loss, make_scorer, roc_auc_score, accuracy_score\n",
        "from sklearn.ensemble import RandomForestClassifier, AdaBoostClassifier\n",
        "from sklearn.linear_model import LogisticRegression\n",
        "from sklearn.preprocessing import StandardScaler\n",
        "from sklearn.tree import DecisionTreeClassifier\n",
        "from sklearn.svm import SVC"
      ],
      "execution_count": 0,
      "outputs": []
    },
    {
      "cell_type": "code",
      "metadata": {
        "id": "45lPBwRCHnh8",
        "colab_type": "code",
        "colab": {}
      },
      "source": [
        ""
      ],
      "execution_count": 0,
      "outputs": []
    },
    {
      "cell_type": "code",
      "metadata": {
        "id": "wx8jfTJIwpmy",
        "colab_type": "code",
        "outputId": "ad163060-e399-4273-b27e-0147f174e686",
        "colab": {
          "base_uri": "https://localhost:8080/",
          "height": 785
        }
      },
      "source": [
        "X_train_tmp=pd.read_csv('https://s3.amazonaws.com/drivendata/data/54/public/train_values.csv')\n",
        "display(X_train_tmp.head())\n",
        "y_train_tmp=pd.read_csv('https://s3.amazonaws.com/drivendata/data/54/public/train_labels.csv')\n",
        "display(y_train_tmp.head())\n",
        "X_test=pd.read_csv('https://s3.amazonaws.com/drivendata/data/54/public/test_values.csv')\n",
        "display(X_test.head())\n",
        "sample_submission=pd.read_csv('https://s3.amazonaws.com/drivendata/data/54/public/submission_format.csv')\n",
        "display(sample_submission.head())"
      ],
      "execution_count": 2,
      "outputs": [
        {
          "output_type": "display_data",
          "data": {
            "text/html": [
              "<div>\n",
              "<style scoped>\n",
              "    .dataframe tbody tr th:only-of-type {\n",
              "        vertical-align: middle;\n",
              "    }\n",
              "\n",
              "    .dataframe tbody tr th {\n",
              "        vertical-align: top;\n",
              "    }\n",
              "\n",
              "    .dataframe thead th {\n",
              "        text-align: right;\n",
              "    }\n",
              "</style>\n",
              "<table border=\"1\" class=\"dataframe\">\n",
              "  <thead>\n",
              "    <tr style=\"text-align: right;\">\n",
              "      <th></th>\n",
              "      <th>patient_id</th>\n",
              "      <th>slope_of_peak_exercise_st_segment</th>\n",
              "      <th>thal</th>\n",
              "      <th>resting_blood_pressure</th>\n",
              "      <th>chest_pain_type</th>\n",
              "      <th>num_major_vessels</th>\n",
              "      <th>fasting_blood_sugar_gt_120_mg_per_dl</th>\n",
              "      <th>resting_ekg_results</th>\n",
              "      <th>serum_cholesterol_mg_per_dl</th>\n",
              "      <th>oldpeak_eq_st_depression</th>\n",
              "      <th>sex</th>\n",
              "      <th>age</th>\n",
              "      <th>max_heart_rate_achieved</th>\n",
              "      <th>exercise_induced_angina</th>\n",
              "    </tr>\n",
              "  </thead>\n",
              "  <tbody>\n",
              "    <tr>\n",
              "      <th>0</th>\n",
              "      <td>0z64un</td>\n",
              "      <td>1</td>\n",
              "      <td>normal</td>\n",
              "      <td>128</td>\n",
              "      <td>2</td>\n",
              "      <td>0</td>\n",
              "      <td>0</td>\n",
              "      <td>2</td>\n",
              "      <td>308</td>\n",
              "      <td>0.0</td>\n",
              "      <td>1</td>\n",
              "      <td>45</td>\n",
              "      <td>170</td>\n",
              "      <td>0</td>\n",
              "    </tr>\n",
              "    <tr>\n",
              "      <th>1</th>\n",
              "      <td>ryoo3j</td>\n",
              "      <td>2</td>\n",
              "      <td>normal</td>\n",
              "      <td>110</td>\n",
              "      <td>3</td>\n",
              "      <td>0</td>\n",
              "      <td>0</td>\n",
              "      <td>0</td>\n",
              "      <td>214</td>\n",
              "      <td>1.6</td>\n",
              "      <td>0</td>\n",
              "      <td>54</td>\n",
              "      <td>158</td>\n",
              "      <td>0</td>\n",
              "    </tr>\n",
              "    <tr>\n",
              "      <th>2</th>\n",
              "      <td>yt1s1x</td>\n",
              "      <td>1</td>\n",
              "      <td>normal</td>\n",
              "      <td>125</td>\n",
              "      <td>4</td>\n",
              "      <td>3</td>\n",
              "      <td>0</td>\n",
              "      <td>2</td>\n",
              "      <td>304</td>\n",
              "      <td>0.0</td>\n",
              "      <td>1</td>\n",
              "      <td>77</td>\n",
              "      <td>162</td>\n",
              "      <td>1</td>\n",
              "    </tr>\n",
              "    <tr>\n",
              "      <th>3</th>\n",
              "      <td>l2xjde</td>\n",
              "      <td>1</td>\n",
              "      <td>reversible_defect</td>\n",
              "      <td>152</td>\n",
              "      <td>4</td>\n",
              "      <td>0</td>\n",
              "      <td>0</td>\n",
              "      <td>0</td>\n",
              "      <td>223</td>\n",
              "      <td>0.0</td>\n",
              "      <td>1</td>\n",
              "      <td>40</td>\n",
              "      <td>181</td>\n",
              "      <td>0</td>\n",
              "    </tr>\n",
              "    <tr>\n",
              "      <th>4</th>\n",
              "      <td>oyt4ek</td>\n",
              "      <td>3</td>\n",
              "      <td>reversible_defect</td>\n",
              "      <td>178</td>\n",
              "      <td>1</td>\n",
              "      <td>0</td>\n",
              "      <td>0</td>\n",
              "      <td>2</td>\n",
              "      <td>270</td>\n",
              "      <td>4.2</td>\n",
              "      <td>1</td>\n",
              "      <td>59</td>\n",
              "      <td>145</td>\n",
              "      <td>0</td>\n",
              "    </tr>\n",
              "  </tbody>\n",
              "</table>\n",
              "</div>"
            ],
            "text/plain": [
              "  patient_id  ...  exercise_induced_angina\n",
              "0     0z64un  ...                        0\n",
              "1     ryoo3j  ...                        0\n",
              "2     yt1s1x  ...                        1\n",
              "3     l2xjde  ...                        0\n",
              "4     oyt4ek  ...                        0\n",
              "\n",
              "[5 rows x 14 columns]"
            ]
          },
          "metadata": {
            "tags": []
          }
        },
        {
          "output_type": "display_data",
          "data": {
            "text/html": [
              "<div>\n",
              "<style scoped>\n",
              "    .dataframe tbody tr th:only-of-type {\n",
              "        vertical-align: middle;\n",
              "    }\n",
              "\n",
              "    .dataframe tbody tr th {\n",
              "        vertical-align: top;\n",
              "    }\n",
              "\n",
              "    .dataframe thead th {\n",
              "        text-align: right;\n",
              "    }\n",
              "</style>\n",
              "<table border=\"1\" class=\"dataframe\">\n",
              "  <thead>\n",
              "    <tr style=\"text-align: right;\">\n",
              "      <th></th>\n",
              "      <th>patient_id</th>\n",
              "      <th>heart_disease_present</th>\n",
              "    </tr>\n",
              "  </thead>\n",
              "  <tbody>\n",
              "    <tr>\n",
              "      <th>0</th>\n",
              "      <td>0z64un</td>\n",
              "      <td>0</td>\n",
              "    </tr>\n",
              "    <tr>\n",
              "      <th>1</th>\n",
              "      <td>ryoo3j</td>\n",
              "      <td>0</td>\n",
              "    </tr>\n",
              "    <tr>\n",
              "      <th>2</th>\n",
              "      <td>yt1s1x</td>\n",
              "      <td>1</td>\n",
              "    </tr>\n",
              "    <tr>\n",
              "      <th>3</th>\n",
              "      <td>l2xjde</td>\n",
              "      <td>1</td>\n",
              "    </tr>\n",
              "    <tr>\n",
              "      <th>4</th>\n",
              "      <td>oyt4ek</td>\n",
              "      <td>0</td>\n",
              "    </tr>\n",
              "  </tbody>\n",
              "</table>\n",
              "</div>"
            ],
            "text/plain": [
              "  patient_id  heart_disease_present\n",
              "0     0z64un                      0\n",
              "1     ryoo3j                      0\n",
              "2     yt1s1x                      1\n",
              "3     l2xjde                      1\n",
              "4     oyt4ek                      0"
            ]
          },
          "metadata": {
            "tags": []
          }
        },
        {
          "output_type": "display_data",
          "data": {
            "text/html": [
              "<div>\n",
              "<style scoped>\n",
              "    .dataframe tbody tr th:only-of-type {\n",
              "        vertical-align: middle;\n",
              "    }\n",
              "\n",
              "    .dataframe tbody tr th {\n",
              "        vertical-align: top;\n",
              "    }\n",
              "\n",
              "    .dataframe thead th {\n",
              "        text-align: right;\n",
              "    }\n",
              "</style>\n",
              "<table border=\"1\" class=\"dataframe\">\n",
              "  <thead>\n",
              "    <tr style=\"text-align: right;\">\n",
              "      <th></th>\n",
              "      <th>patient_id</th>\n",
              "      <th>slope_of_peak_exercise_st_segment</th>\n",
              "      <th>thal</th>\n",
              "      <th>resting_blood_pressure</th>\n",
              "      <th>chest_pain_type</th>\n",
              "      <th>num_major_vessels</th>\n",
              "      <th>fasting_blood_sugar_gt_120_mg_per_dl</th>\n",
              "      <th>resting_ekg_results</th>\n",
              "      <th>serum_cholesterol_mg_per_dl</th>\n",
              "      <th>oldpeak_eq_st_depression</th>\n",
              "      <th>sex</th>\n",
              "      <th>age</th>\n",
              "      <th>max_heart_rate_achieved</th>\n",
              "      <th>exercise_induced_angina</th>\n",
              "    </tr>\n",
              "  </thead>\n",
              "  <tbody>\n",
              "    <tr>\n",
              "      <th>0</th>\n",
              "      <td>olalu7</td>\n",
              "      <td>2</td>\n",
              "      <td>reversible_defect</td>\n",
              "      <td>170</td>\n",
              "      <td>1</td>\n",
              "      <td>0</td>\n",
              "      <td>0</td>\n",
              "      <td>2</td>\n",
              "      <td>288</td>\n",
              "      <td>0.2</td>\n",
              "      <td>1</td>\n",
              "      <td>59</td>\n",
              "      <td>159</td>\n",
              "      <td>0</td>\n",
              "    </tr>\n",
              "    <tr>\n",
              "      <th>1</th>\n",
              "      <td>z9n6mx</td>\n",
              "      <td>1</td>\n",
              "      <td>normal</td>\n",
              "      <td>138</td>\n",
              "      <td>4</td>\n",
              "      <td>0</td>\n",
              "      <td>0</td>\n",
              "      <td>0</td>\n",
              "      <td>183</td>\n",
              "      <td>1.4</td>\n",
              "      <td>0</td>\n",
              "      <td>35</td>\n",
              "      <td>182</td>\n",
              "      <td>0</td>\n",
              "    </tr>\n",
              "    <tr>\n",
              "      <th>2</th>\n",
              "      <td>5k4413</td>\n",
              "      <td>2</td>\n",
              "      <td>reversible_defect</td>\n",
              "      <td>120</td>\n",
              "      <td>4</td>\n",
              "      <td>0</td>\n",
              "      <td>0</td>\n",
              "      <td>2</td>\n",
              "      <td>177</td>\n",
              "      <td>2.5</td>\n",
              "      <td>1</td>\n",
              "      <td>43</td>\n",
              "      <td>120</td>\n",
              "      <td>1</td>\n",
              "    </tr>\n",
              "    <tr>\n",
              "      <th>3</th>\n",
              "      <td>mrg7q5</td>\n",
              "      <td>1</td>\n",
              "      <td>normal</td>\n",
              "      <td>102</td>\n",
              "      <td>3</td>\n",
              "      <td>1</td>\n",
              "      <td>0</td>\n",
              "      <td>0</td>\n",
              "      <td>318</td>\n",
              "      <td>0.0</td>\n",
              "      <td>0</td>\n",
              "      <td>60</td>\n",
              "      <td>160</td>\n",
              "      <td>0</td>\n",
              "    </tr>\n",
              "    <tr>\n",
              "      <th>4</th>\n",
              "      <td>uki4do</td>\n",
              "      <td>2</td>\n",
              "      <td>normal</td>\n",
              "      <td>138</td>\n",
              "      <td>4</td>\n",
              "      <td>1</td>\n",
              "      <td>0</td>\n",
              "      <td>2</td>\n",
              "      <td>166</td>\n",
              "      <td>3.6</td>\n",
              "      <td>1</td>\n",
              "      <td>61</td>\n",
              "      <td>125</td>\n",
              "      <td>1</td>\n",
              "    </tr>\n",
              "  </tbody>\n",
              "</table>\n",
              "</div>"
            ],
            "text/plain": [
              "  patient_id  ...  exercise_induced_angina\n",
              "0     olalu7  ...                        0\n",
              "1     z9n6mx  ...                        0\n",
              "2     5k4413  ...                        1\n",
              "3     mrg7q5  ...                        0\n",
              "4     uki4do  ...                        1\n",
              "\n",
              "[5 rows x 14 columns]"
            ]
          },
          "metadata": {
            "tags": []
          }
        },
        {
          "output_type": "display_data",
          "data": {
            "text/html": [
              "<div>\n",
              "<style scoped>\n",
              "    .dataframe tbody tr th:only-of-type {\n",
              "        vertical-align: middle;\n",
              "    }\n",
              "\n",
              "    .dataframe tbody tr th {\n",
              "        vertical-align: top;\n",
              "    }\n",
              "\n",
              "    .dataframe thead th {\n",
              "        text-align: right;\n",
              "    }\n",
              "</style>\n",
              "<table border=\"1\" class=\"dataframe\">\n",
              "  <thead>\n",
              "    <tr style=\"text-align: right;\">\n",
              "      <th></th>\n",
              "      <th>patient_id</th>\n",
              "      <th>heart_disease_present</th>\n",
              "    </tr>\n",
              "  </thead>\n",
              "  <tbody>\n",
              "    <tr>\n",
              "      <th>0</th>\n",
              "      <td>olalu7</td>\n",
              "      <td>0.5</td>\n",
              "    </tr>\n",
              "    <tr>\n",
              "      <th>1</th>\n",
              "      <td>z9n6mx</td>\n",
              "      <td>0.5</td>\n",
              "    </tr>\n",
              "    <tr>\n",
              "      <th>2</th>\n",
              "      <td>5k4413</td>\n",
              "      <td>0.5</td>\n",
              "    </tr>\n",
              "    <tr>\n",
              "      <th>3</th>\n",
              "      <td>mrg7q5</td>\n",
              "      <td>0.5</td>\n",
              "    </tr>\n",
              "    <tr>\n",
              "      <th>4</th>\n",
              "      <td>uki4do</td>\n",
              "      <td>0.5</td>\n",
              "    </tr>\n",
              "  </tbody>\n",
              "</table>\n",
              "</div>"
            ],
            "text/plain": [
              "  patient_id  heart_disease_present\n",
              "0     olalu7                    0.5\n",
              "1     z9n6mx                    0.5\n",
              "2     5k4413                    0.5\n",
              "3     mrg7q5                    0.5\n",
              "4     uki4do                    0.5"
            ]
          },
          "metadata": {
            "tags": []
          }
        }
      ]
    },
    {
      "cell_type": "code",
      "metadata": {
        "id": "rKqmQtLBwwsD",
        "colab_type": "code",
        "outputId": "8d3e9e09-b12b-445b-983d-8b8dfc77e138",
        "colab": {
          "base_uri": "https://localhost:8080/",
          "height": 272
        }
      },
      "source": [
        "X_train_tmp.dtypes"
      ],
      "execution_count": 3,
      "outputs": [
        {
          "output_type": "execute_result",
          "data": {
            "text/plain": [
              "patient_id                               object\n",
              "slope_of_peak_exercise_st_segment         int64\n",
              "thal                                     object\n",
              "resting_blood_pressure                    int64\n",
              "chest_pain_type                           int64\n",
              "num_major_vessels                         int64\n",
              "fasting_blood_sugar_gt_120_mg_per_dl      int64\n",
              "resting_ekg_results                       int64\n",
              "serum_cholesterol_mg_per_dl               int64\n",
              "oldpeak_eq_st_depression                float64\n",
              "sex                                       int64\n",
              "age                                       int64\n",
              "max_heart_rate_achieved                   int64\n",
              "exercise_induced_angina                   int64\n",
              "dtype: object"
            ]
          },
          "metadata": {
            "tags": []
          },
          "execution_count": 3
        }
      ]
    },
    {
      "cell_type": "code",
      "metadata": {
        "id": "T55idyPlS2z7",
        "colab_type": "code",
        "colab": {}
      },
      "source": [
        "train_size=X_train_tmp.shape[0]\n",
        "test_size=X_test.shape[0]"
      ],
      "execution_count": 0,
      "outputs": []
    },
    {
      "cell_type": "markdown",
      "metadata": {
        "id": "VQNATt5-rq6F",
        "colab_type": "text"
      },
      "source": [
        "# Feature Engineering"
      ]
    },
    {
      "cell_type": "markdown",
      "metadata": {
        "id": "QWnUfSDSu96K",
        "colab_type": "text"
      },
      "source": [
        "## Combining the features of both training and testing sets"
      ]
    },
    {
      "cell_type": "code",
      "metadata": {
        "id": "Zg-uejBoJBys",
        "colab_type": "code",
        "colab": {}
      },
      "source": [
        "whole_dataset=pd.concat([X_train_tmp, X_test], axis=0)"
      ],
      "execution_count": 0,
      "outputs": []
    },
    {
      "cell_type": "code",
      "metadata": {
        "id": "0epmuVjm0CtP",
        "colab_type": "code",
        "outputId": "647dbc40-781f-422a-d02b-90395c0d009c",
        "colab": {
          "base_uri": "https://localhost:8080/",
          "height": 272
        }
      },
      "source": [
        "whole_dataset.nunique()"
      ],
      "execution_count": 6,
      "outputs": [
        {
          "output_type": "execute_result",
          "data": {
            "text/plain": [
              "patient_id                              270\n",
              "slope_of_peak_exercise_st_segment         3\n",
              "thal                                      3\n",
              "resting_blood_pressure                   47\n",
              "chest_pain_type                           4\n",
              "num_major_vessels                         4\n",
              "fasting_blood_sugar_gt_120_mg_per_dl      2\n",
              "resting_ekg_results                       3\n",
              "serum_cholesterol_mg_per_dl             144\n",
              "oldpeak_eq_st_depression                 39\n",
              "sex                                       2\n",
              "age                                      41\n",
              "max_heart_rate_achieved                  90\n",
              "exercise_induced_angina                   2\n",
              "dtype: int64"
            ]
          },
          "metadata": {
            "tags": []
          },
          "execution_count": 6
        }
      ]
    },
    {
      "cell_type": "markdown",
      "metadata": {
        "id": "GVzWuLW0vEIO",
        "colab_type": "text"
      },
      "source": [
        "## Using pd.get_dummies on the categorical columns"
      ]
    },
    {
      "cell_type": "code",
      "metadata": {
        "id": "mC6dWUT6H3Lx",
        "colab_type": "code",
        "colab": {}
      },
      "source": [
        "numeric_columns=set(['resting_blood_pressure', 'serum_cholesterol_mg_per_dl', 'oldpeak_eq_st_depression', 'age', 'max_heart_rate_achieved'])\n",
        "categorical_columns=set(whole_dataset.columns).difference(numeric_columns.union(['patient_id']))"
      ],
      "execution_count": 0,
      "outputs": []
    },
    {
      "cell_type": "code",
      "metadata": {
        "id": "dENhEal6AaKw",
        "colab_type": "code",
        "colab": {}
      },
      "source": [
        "for col in categorical_columns:\n",
        "  whole_dataset[col]=whole_dataset[col].astype('object')"
      ],
      "execution_count": 0,
      "outputs": []
    },
    {
      "cell_type": "code",
      "metadata": {
        "id": "cMn_hfTvIf4Z",
        "colab_type": "code",
        "outputId": "1c4a66fb-775a-4fee-89b3-7f4c967c165c",
        "colab": {
          "base_uri": "https://localhost:8080/",
          "height": 224
        }
      },
      "source": [
        "whole_dataset_dummies=whole_dataset.drop(categorical_columns, axis=1)\n",
        "whole_dataset_dummies=pd.concat([whole_dataset_dummies, pd.get_dummies(whole_dataset[categorical_columns], drop_first=True)], axis=1)\n",
        "whole_dataset_dummies.head()"
      ],
      "execution_count": 9,
      "outputs": [
        {
          "output_type": "execute_result",
          "data": {
            "text/html": [
              "<div>\n",
              "<style scoped>\n",
              "    .dataframe tbody tr th:only-of-type {\n",
              "        vertical-align: middle;\n",
              "    }\n",
              "\n",
              "    .dataframe tbody tr th {\n",
              "        vertical-align: top;\n",
              "    }\n",
              "\n",
              "    .dataframe thead th {\n",
              "        text-align: right;\n",
              "    }\n",
              "</style>\n",
              "<table border=\"1\" class=\"dataframe\">\n",
              "  <thead>\n",
              "    <tr style=\"text-align: right;\">\n",
              "      <th></th>\n",
              "      <th>patient_id</th>\n",
              "      <th>resting_blood_pressure</th>\n",
              "      <th>serum_cholesterol_mg_per_dl</th>\n",
              "      <th>oldpeak_eq_st_depression</th>\n",
              "      <th>age</th>\n",
              "      <th>max_heart_rate_achieved</th>\n",
              "      <th>slope_of_peak_exercise_st_segment_2</th>\n",
              "      <th>slope_of_peak_exercise_st_segment_3</th>\n",
              "      <th>thal_normal</th>\n",
              "      <th>thal_reversible_defect</th>\n",
              "      <th>sex_1</th>\n",
              "      <th>resting_ekg_results_1</th>\n",
              "      <th>resting_ekg_results_2</th>\n",
              "      <th>chest_pain_type_2</th>\n",
              "      <th>chest_pain_type_3</th>\n",
              "      <th>chest_pain_type_4</th>\n",
              "      <th>fasting_blood_sugar_gt_120_mg_per_dl_1</th>\n",
              "      <th>exercise_induced_angina_1</th>\n",
              "      <th>num_major_vessels_1</th>\n",
              "      <th>num_major_vessels_2</th>\n",
              "      <th>num_major_vessels_3</th>\n",
              "    </tr>\n",
              "  </thead>\n",
              "  <tbody>\n",
              "    <tr>\n",
              "      <th>0</th>\n",
              "      <td>0z64un</td>\n",
              "      <td>128</td>\n",
              "      <td>308</td>\n",
              "      <td>0.0</td>\n",
              "      <td>45</td>\n",
              "      <td>170</td>\n",
              "      <td>0</td>\n",
              "      <td>0</td>\n",
              "      <td>1</td>\n",
              "      <td>0</td>\n",
              "      <td>1</td>\n",
              "      <td>0</td>\n",
              "      <td>1</td>\n",
              "      <td>1</td>\n",
              "      <td>0</td>\n",
              "      <td>0</td>\n",
              "      <td>0</td>\n",
              "      <td>0</td>\n",
              "      <td>0</td>\n",
              "      <td>0</td>\n",
              "      <td>0</td>\n",
              "    </tr>\n",
              "    <tr>\n",
              "      <th>1</th>\n",
              "      <td>ryoo3j</td>\n",
              "      <td>110</td>\n",
              "      <td>214</td>\n",
              "      <td>1.6</td>\n",
              "      <td>54</td>\n",
              "      <td>158</td>\n",
              "      <td>1</td>\n",
              "      <td>0</td>\n",
              "      <td>1</td>\n",
              "      <td>0</td>\n",
              "      <td>0</td>\n",
              "      <td>0</td>\n",
              "      <td>0</td>\n",
              "      <td>0</td>\n",
              "      <td>1</td>\n",
              "      <td>0</td>\n",
              "      <td>0</td>\n",
              "      <td>0</td>\n",
              "      <td>0</td>\n",
              "      <td>0</td>\n",
              "      <td>0</td>\n",
              "    </tr>\n",
              "    <tr>\n",
              "      <th>2</th>\n",
              "      <td>yt1s1x</td>\n",
              "      <td>125</td>\n",
              "      <td>304</td>\n",
              "      <td>0.0</td>\n",
              "      <td>77</td>\n",
              "      <td>162</td>\n",
              "      <td>0</td>\n",
              "      <td>0</td>\n",
              "      <td>1</td>\n",
              "      <td>0</td>\n",
              "      <td>1</td>\n",
              "      <td>0</td>\n",
              "      <td>1</td>\n",
              "      <td>0</td>\n",
              "      <td>0</td>\n",
              "      <td>1</td>\n",
              "      <td>0</td>\n",
              "      <td>1</td>\n",
              "      <td>0</td>\n",
              "      <td>0</td>\n",
              "      <td>1</td>\n",
              "    </tr>\n",
              "    <tr>\n",
              "      <th>3</th>\n",
              "      <td>l2xjde</td>\n",
              "      <td>152</td>\n",
              "      <td>223</td>\n",
              "      <td>0.0</td>\n",
              "      <td>40</td>\n",
              "      <td>181</td>\n",
              "      <td>0</td>\n",
              "      <td>0</td>\n",
              "      <td>0</td>\n",
              "      <td>1</td>\n",
              "      <td>1</td>\n",
              "      <td>0</td>\n",
              "      <td>0</td>\n",
              "      <td>0</td>\n",
              "      <td>0</td>\n",
              "      <td>1</td>\n",
              "      <td>0</td>\n",
              "      <td>0</td>\n",
              "      <td>0</td>\n",
              "      <td>0</td>\n",
              "      <td>0</td>\n",
              "    </tr>\n",
              "    <tr>\n",
              "      <th>4</th>\n",
              "      <td>oyt4ek</td>\n",
              "      <td>178</td>\n",
              "      <td>270</td>\n",
              "      <td>4.2</td>\n",
              "      <td>59</td>\n",
              "      <td>145</td>\n",
              "      <td>0</td>\n",
              "      <td>1</td>\n",
              "      <td>0</td>\n",
              "      <td>1</td>\n",
              "      <td>1</td>\n",
              "      <td>0</td>\n",
              "      <td>1</td>\n",
              "      <td>0</td>\n",
              "      <td>0</td>\n",
              "      <td>0</td>\n",
              "      <td>0</td>\n",
              "      <td>0</td>\n",
              "      <td>0</td>\n",
              "      <td>0</td>\n",
              "      <td>0</td>\n",
              "    </tr>\n",
              "  </tbody>\n",
              "</table>\n",
              "</div>"
            ],
            "text/plain": [
              "  patient_id  resting_blood_pressure  ...  num_major_vessels_2  num_major_vessels_3\n",
              "0     0z64un                     128  ...                    0                    0\n",
              "1     ryoo3j                     110  ...                    0                    0\n",
              "2     yt1s1x                     125  ...                    0                    1\n",
              "3     l2xjde                     152  ...                    0                    0\n",
              "4     oyt4ek                     178  ...                    0                    0\n",
              "\n",
              "[5 rows x 21 columns]"
            ]
          },
          "metadata": {
            "tags": []
          },
          "execution_count": 9
        }
      ]
    },
    {
      "cell_type": "code",
      "metadata": {
        "id": "gClu8Nc5TByN",
        "colab_type": "code",
        "colab": {}
      },
      "source": [
        ""
      ],
      "execution_count": 0,
      "outputs": []
    },
    {
      "cell_type": "markdown",
      "metadata": {
        "id": "v74Xm5FPvxtt",
        "colab_type": "text"
      },
      "source": [
        "## Binning the numeric columns"
      ]
    },
    {
      "cell_type": "markdown",
      "metadata": {
        "id": "jJa7Fw80wAxP",
        "colab_type": "text"
      },
      "source": [
        "With an aim to reduce the overfitting of numeric columns, we have to bin these columns. To see the effect of each numeric columns on the columns \"heart_disease_present\", we first combine the X_train_tmp dataframe with the label."
      ]
    },
    {
      "cell_type": "code",
      "metadata": {
        "id": "F704dkJRloVf",
        "colab_type": "code",
        "outputId": "ed0f65fb-5b25-4369-a493-672acb9611eb",
        "colab": {
          "base_uri": "https://localhost:8080/",
          "height": 224
        }
      },
      "source": [
        "X_train_tmp_label=pd.concat([whole_dataset_dummies.iloc[:train_size], y_train_tmp], axis=1)\n",
        "X_train_tmp_label.head()"
      ],
      "execution_count": 10,
      "outputs": [
        {
          "output_type": "execute_result",
          "data": {
            "text/html": [
              "<div>\n",
              "<style scoped>\n",
              "    .dataframe tbody tr th:only-of-type {\n",
              "        vertical-align: middle;\n",
              "    }\n",
              "\n",
              "    .dataframe tbody tr th {\n",
              "        vertical-align: top;\n",
              "    }\n",
              "\n",
              "    .dataframe thead th {\n",
              "        text-align: right;\n",
              "    }\n",
              "</style>\n",
              "<table border=\"1\" class=\"dataframe\">\n",
              "  <thead>\n",
              "    <tr style=\"text-align: right;\">\n",
              "      <th></th>\n",
              "      <th>patient_id</th>\n",
              "      <th>resting_blood_pressure</th>\n",
              "      <th>serum_cholesterol_mg_per_dl</th>\n",
              "      <th>oldpeak_eq_st_depression</th>\n",
              "      <th>age</th>\n",
              "      <th>max_heart_rate_achieved</th>\n",
              "      <th>slope_of_peak_exercise_st_segment_2</th>\n",
              "      <th>slope_of_peak_exercise_st_segment_3</th>\n",
              "      <th>thal_normal</th>\n",
              "      <th>thal_reversible_defect</th>\n",
              "      <th>sex_1</th>\n",
              "      <th>resting_ekg_results_1</th>\n",
              "      <th>resting_ekg_results_2</th>\n",
              "      <th>chest_pain_type_2</th>\n",
              "      <th>chest_pain_type_3</th>\n",
              "      <th>chest_pain_type_4</th>\n",
              "      <th>fasting_blood_sugar_gt_120_mg_per_dl_1</th>\n",
              "      <th>exercise_induced_angina_1</th>\n",
              "      <th>num_major_vessels_1</th>\n",
              "      <th>num_major_vessels_2</th>\n",
              "      <th>num_major_vessels_3</th>\n",
              "      <th>patient_id</th>\n",
              "      <th>heart_disease_present</th>\n",
              "    </tr>\n",
              "  </thead>\n",
              "  <tbody>\n",
              "    <tr>\n",
              "      <th>0</th>\n",
              "      <td>0z64un</td>\n",
              "      <td>128</td>\n",
              "      <td>308</td>\n",
              "      <td>0.0</td>\n",
              "      <td>45</td>\n",
              "      <td>170</td>\n",
              "      <td>0</td>\n",
              "      <td>0</td>\n",
              "      <td>1</td>\n",
              "      <td>0</td>\n",
              "      <td>1</td>\n",
              "      <td>0</td>\n",
              "      <td>1</td>\n",
              "      <td>1</td>\n",
              "      <td>0</td>\n",
              "      <td>0</td>\n",
              "      <td>0</td>\n",
              "      <td>0</td>\n",
              "      <td>0</td>\n",
              "      <td>0</td>\n",
              "      <td>0</td>\n",
              "      <td>0z64un</td>\n",
              "      <td>0</td>\n",
              "    </tr>\n",
              "    <tr>\n",
              "      <th>1</th>\n",
              "      <td>ryoo3j</td>\n",
              "      <td>110</td>\n",
              "      <td>214</td>\n",
              "      <td>1.6</td>\n",
              "      <td>54</td>\n",
              "      <td>158</td>\n",
              "      <td>1</td>\n",
              "      <td>0</td>\n",
              "      <td>1</td>\n",
              "      <td>0</td>\n",
              "      <td>0</td>\n",
              "      <td>0</td>\n",
              "      <td>0</td>\n",
              "      <td>0</td>\n",
              "      <td>1</td>\n",
              "      <td>0</td>\n",
              "      <td>0</td>\n",
              "      <td>0</td>\n",
              "      <td>0</td>\n",
              "      <td>0</td>\n",
              "      <td>0</td>\n",
              "      <td>ryoo3j</td>\n",
              "      <td>0</td>\n",
              "    </tr>\n",
              "    <tr>\n",
              "      <th>2</th>\n",
              "      <td>yt1s1x</td>\n",
              "      <td>125</td>\n",
              "      <td>304</td>\n",
              "      <td>0.0</td>\n",
              "      <td>77</td>\n",
              "      <td>162</td>\n",
              "      <td>0</td>\n",
              "      <td>0</td>\n",
              "      <td>1</td>\n",
              "      <td>0</td>\n",
              "      <td>1</td>\n",
              "      <td>0</td>\n",
              "      <td>1</td>\n",
              "      <td>0</td>\n",
              "      <td>0</td>\n",
              "      <td>1</td>\n",
              "      <td>0</td>\n",
              "      <td>1</td>\n",
              "      <td>0</td>\n",
              "      <td>0</td>\n",
              "      <td>1</td>\n",
              "      <td>yt1s1x</td>\n",
              "      <td>1</td>\n",
              "    </tr>\n",
              "    <tr>\n",
              "      <th>3</th>\n",
              "      <td>l2xjde</td>\n",
              "      <td>152</td>\n",
              "      <td>223</td>\n",
              "      <td>0.0</td>\n",
              "      <td>40</td>\n",
              "      <td>181</td>\n",
              "      <td>0</td>\n",
              "      <td>0</td>\n",
              "      <td>0</td>\n",
              "      <td>1</td>\n",
              "      <td>1</td>\n",
              "      <td>0</td>\n",
              "      <td>0</td>\n",
              "      <td>0</td>\n",
              "      <td>0</td>\n",
              "      <td>1</td>\n",
              "      <td>0</td>\n",
              "      <td>0</td>\n",
              "      <td>0</td>\n",
              "      <td>0</td>\n",
              "      <td>0</td>\n",
              "      <td>l2xjde</td>\n",
              "      <td>1</td>\n",
              "    </tr>\n",
              "    <tr>\n",
              "      <th>4</th>\n",
              "      <td>oyt4ek</td>\n",
              "      <td>178</td>\n",
              "      <td>270</td>\n",
              "      <td>4.2</td>\n",
              "      <td>59</td>\n",
              "      <td>145</td>\n",
              "      <td>0</td>\n",
              "      <td>1</td>\n",
              "      <td>0</td>\n",
              "      <td>1</td>\n",
              "      <td>1</td>\n",
              "      <td>0</td>\n",
              "      <td>1</td>\n",
              "      <td>0</td>\n",
              "      <td>0</td>\n",
              "      <td>0</td>\n",
              "      <td>0</td>\n",
              "      <td>0</td>\n",
              "      <td>0</td>\n",
              "      <td>0</td>\n",
              "      <td>0</td>\n",
              "      <td>oyt4ek</td>\n",
              "      <td>0</td>\n",
              "    </tr>\n",
              "  </tbody>\n",
              "</table>\n",
              "</div>"
            ],
            "text/plain": [
              "   patient_id  resting_blood_pressure  ...  patient_id  heart_disease_present\n",
              "0      0z64un                     128  ...      0z64un                      0\n",
              "1      ryoo3j                     110  ...      ryoo3j                      0\n",
              "2      yt1s1x                     125  ...      yt1s1x                      1\n",
              "3      l2xjde                     152  ...      l2xjde                      1\n",
              "4      oyt4ek                     178  ...      oyt4ek                      0\n",
              "\n",
              "[5 rows x 23 columns]"
            ]
          },
          "metadata": {
            "tags": []
          },
          "execution_count": 10
        }
      ]
    },
    {
      "cell_type": "markdown",
      "metadata": {
        "id": "AM-vheTBv8V7",
        "colab_type": "text"
      },
      "source": [
        "### Age"
      ]
    },
    {
      "cell_type": "markdown",
      "metadata": {
        "id": "R5I-dLwPv9xf",
        "colab_type": "text"
      },
      "source": [
        "A plot of heart_disease_present against age is plotted."
      ]
    },
    {
      "cell_type": "code",
      "metadata": {
        "id": "aHL2Es4fdSVL",
        "colab_type": "code",
        "outputId": "76b336ec-569e-4e77-b831-392ff7f349d9",
        "colab": {
          "base_uri": "https://localhost:8080/",
          "height": 296
        }
      },
      "source": [
        "X_train_tmp_label.groupby('age')['heart_disease_present'].mean().plot()\n"
      ],
      "execution_count": 11,
      "outputs": [
        {
          "output_type": "execute_result",
          "data": {
            "text/plain": [
              "<matplotlib.axes._subplots.AxesSubplot at 0x7f3ca163a978>"
            ]
          },
          "metadata": {
            "tags": []
          },
          "execution_count": 11
        },
        {
          "output_type": "display_data",
          "data": {
            "image/png": "[encoded data removed]",
            "text/plain": [
              "<Figure size 432x288 with 1 Axes>"
            ]
          },
          "metadata": {
            "tags": []
          }
        }
      ]
    },
    {
      "cell_type": "markdown",
      "metadata": {
        "id": "QbEZr81kwZ_f",
        "colab_type": "text"
      },
      "source": [
        "According to the above plot, we can have the following age range."
      ]
    },
    {
      "cell_type": "code",
      "metadata": {
        "id": "K2ujPfy7oe5Z",
        "colab_type": "code",
        "outputId": "f22b5b7b-fa65-4d14-83f4-7ad917160d98",
        "colab": {
          "base_uri": "https://localhost:8080/",
          "height": 279
        }
      },
      "source": [
        "X_train_tmp_label.groupby('age')['heart_disease_present'].mean().plot()\n",
        "age_range=[0, 40, 54, 62]\n",
        "for age in age_range:\n",
        "  plt.axvline(age, c='r')\n"
      ],
      "execution_count": 12,
      "outputs": [
        {
          "output_type": "display_data",
          "data": {
            "image/png": "[encoded data removed]",
            "text/plain": [
              "<Figure size 432x288 with 1 Axes>"
            ]
          },
          "metadata": {
            "tags": []
          }
        }
      ]
    },
    {
      "cell_type": "markdown",
      "metadata": {
        "id": "d5zSAVF3rV0X",
        "colab_type": "text"
      },
      "source": [
        "A function is written for the mapping from age to age_range."
      ]
    },
    {
      "cell_type": "code",
      "metadata": {
        "id": "6rNlCsKap2AX",
        "colab_type": "code",
        "colab": {}
      },
      "source": [
        "def age_to_bins(age):\n",
        "  for i in range(len(age_range) - 1):\n",
        "    if age > age_range[i] and age <= age_range[i+1]:\n",
        "      return i\n",
        "  return len(age_range)-1\n"
      ],
      "execution_count": 0,
      "outputs": []
    },
    {
      "cell_type": "markdown",
      "metadata": {
        "id": "pdAIGZjvwtC5",
        "colab_type": "text"
      },
      "source": [
        "We apply the funciton on the age columns and see the value_count"
      ]
    },
    {
      "cell_type": "code",
      "metadata": {
        "id": "LvHTTeVBq1x_",
        "colab_type": "code",
        "outputId": "00d34472-4191-4c20-d0ba-e6427e1e6fa8",
        "colab": {
          "base_uri": "https://localhost:8080/",
          "height": 102
        }
      },
      "source": [
        "whole_dataset_dummies['age_range']=whole_dataset_dummies['age'].transform(age_to_bins)\n",
        "whole_dataset_dummies['age_range'].value_counts()\n"
      ],
      "execution_count": 14,
      "outputs": [
        {
          "output_type": "execute_result",
          "data": {
            "text/plain": [
              "1    117\n",
              "2     84\n",
              "3     54\n",
              "0     15\n",
              "Name: age_range, dtype: int64"
            ]
          },
          "metadata": {
            "tags": []
          },
          "execution_count": 14
        }
      ]
    },
    {
      "cell_type": "markdown",
      "metadata": {
        "id": "f8Z4d0L3xEO4",
        "colab_type": "text"
      },
      "source": [
        "Then, we do the same things on other numeric columns."
      ]
    },
    {
      "cell_type": "markdown",
      "metadata": {
        "id": "0CHnqhfbw2yY",
        "colab_type": "text"
      },
      "source": [
        "### Max_heart_rate_achieved"
      ]
    },
    {
      "cell_type": "code",
      "metadata": {
        "id": "d711scjOxLo2",
        "colab_type": "code",
        "outputId": "031257fa-cf1f-4a11-b4ec-0ecdde536fce",
        "colab": {
          "base_uri": "https://localhost:8080/",
          "height": 297
        }
      },
      "source": [
        "X_train_tmp_label.groupby('max_heart_rate_achieved')['heart_disease_present'].mean().plot()"
      ],
      "execution_count": 15,
      "outputs": [
        {
          "output_type": "execute_result",
          "data": {
            "text/plain": [
              "<matplotlib.axes._subplots.AxesSubplot at 0x7f3c81cfd0b8>"
            ]
          },
          "metadata": {
            "tags": []
          },
          "execution_count": 15
        },
        {
          "output_type": "display_data",
          "data": {
            "image/png": "[encoded data removed]",
            "text/plain": [
              "<Figure size 432x288 with 1 Axes>"
            ]
          },
          "metadata": {
            "tags": []
          }
        }
      ]
    },
    {
      "cell_type": "code",
      "metadata": {
        "id": "4Dceu6fqxU7o",
        "colab_type": "code",
        "outputId": "e27a7bef-42b0-4605-ebcf-14432bb7309d",
        "colab": {
          "base_uri": "https://localhost:8080/",
          "height": 280
        }
      },
      "source": [
        "X_train_tmp_label.groupby('max_heart_rate_achieved')['heart_disease_present'].mean().plot()\n",
        "max_heart_rate_achieved_range=[0, 141, 177]\n",
        "for max_heart_rate_achieved in max_heart_rate_achieved_range:\n",
        "  plt.axvline(max_heart_rate_achieved, c='r')\n"
      ],
      "execution_count": 16,
      "outputs": [
        {
          "output_type": "display_data",
          "data": {
            "image/png": "[encoded data removed]",
            "text/plain": [
              "<Figure size 432x288 with 1 Axes>"
            ]
          },
          "metadata": {
            "tags": []
          }
        }
      ]
    },
    {
      "cell_type": "code",
      "metadata": {
        "id": "N22txgkyye-A",
        "colab_type": "code",
        "colab": {}
      },
      "source": [
        "def max_heart_rate_achieved_to_bins(max_heart_rate_achieved):\n",
        "  for i in range(len(max_heart_rate_achieved_range) - 1):\n",
        "    if max_heart_rate_achieved > max_heart_rate_achieved_range[i] and max_heart_rate_achieved <= max_heart_rate_achieved_range[i+1]:\n",
        "      return i\n",
        "  return len(max_heart_rate_achieved_range)-1\n"
      ],
      "execution_count": 0,
      "outputs": []
    },
    {
      "cell_type": "code",
      "metadata": {
        "id": "PlUI0vjAxSeb",
        "colab_type": "code",
        "outputId": "d275cec4-2a94-4c92-e581-1d1f99bb10f2",
        "colab": {
          "base_uri": "https://localhost:8080/",
          "height": 85
        }
      },
      "source": [
        "whole_dataset_dummies['max_heart_rate_achieved_range']=whole_dataset_dummies['max_heart_rate_achieved'].transform(max_heart_rate_achieved_to_bins)\n",
        "whole_dataset_dummies['max_heart_rate_achieved_range'].value_counts()\n"
      ],
      "execution_count": 18,
      "outputs": [
        {
          "output_type": "execute_result",
          "data": {
            "text/plain": [
              "1    158\n",
              "0     84\n",
              "2     28\n",
              "Name: max_heart_rate_achieved_range, dtype: int64"
            ]
          },
          "metadata": {
            "tags": []
          },
          "execution_count": 18
        }
      ]
    },
    {
      "cell_type": "code",
      "metadata": {
        "id": "A_Xn-k-Y0aN8",
        "colab_type": "code",
        "colab": {}
      },
      "source": [
        ""
      ],
      "execution_count": 0,
      "outputs": []
    },
    {
      "cell_type": "markdown",
      "metadata": {
        "colab_type": "text",
        "id": "hq5BRYQU0p2s"
      },
      "source": [
        "### Oldpeak_eq_st_depression"
      ]
    },
    {
      "cell_type": "code",
      "metadata": {
        "colab_type": "code",
        "outputId": "d7eab6f1-bfdf-41a7-b1e6-1f19b207f28b",
        "id": "D3hvuoml0p2w",
        "colab": {
          "base_uri": "https://localhost:8080/",
          "height": 297
        }
      },
      "source": [
        "X_train_tmp_label.groupby('oldpeak_eq_st_depression')['heart_disease_present'].mean().plot()"
      ],
      "execution_count": 19,
      "outputs": [
        {
          "output_type": "execute_result",
          "data": {
            "text/plain": [
              "<matplotlib.axes._subplots.AxesSubplot at 0x7f3c81c46d68>"
            ]
          },
          "metadata": {
            "tags": []
          },
          "execution_count": 19
        },
        {
          "output_type": "display_data",
          "data": {
            "image/png": "[encoded data removed]",
            "text/plain": [
              "<Figure size 432x288 with 1 Axes>"
            ]
          },
          "metadata": {
            "tags": []
          }
        }
      ]
    },
    {
      "cell_type": "code",
      "metadata": {
        "colab_type": "code",
        "outputId": "f3f37010-668f-4946-e417-617f62c39e43",
        "id": "aUkAsTdt0p2z",
        "colab": {
          "base_uri": "https://localhost:8080/",
          "height": 280
        }
      },
      "source": [
        "X_train_tmp_label.groupby('oldpeak_eq_st_depression')['heart_disease_present'].mean().plot()\n",
        "oldpeak_eq_st_depression_range=[0, 0.9, 2, 3.8]\n",
        "for oldpeak_eq_st_depression in oldpeak_eq_st_depression_range:\n",
        "  plt.axvline(oldpeak_eq_st_depression, c='r')\n"
      ],
      "execution_count": 20,
      "outputs": [
        {
          "output_type": "display_data",
          "data": {
            "image/png": "[encoded data removed]",
            "text/plain": [
              "<Figure size 432x288 with 1 Axes>"
            ]
          },
          "metadata": {
            "tags": []
          }
        }
      ]
    },
    {
      "cell_type": "code",
      "metadata": {
        "colab_type": "code",
        "id": "gStYj-d10p22",
        "colab": {}
      },
      "source": [
        "def oldpeak_eq_st_depression_to_bins(oldpeak_eq_st_depression):\n",
        "  for i in range(len(max_heart_rate_achieved_range) - 1):\n",
        "    if oldpeak_eq_st_depression > oldpeak_eq_st_depression_range[i] and oldpeak_eq_st_depression <= oldpeak_eq_st_depression_range[i+1]:\n",
        "      return i\n",
        "  return len(oldpeak_eq_st_depression_range)-1\n"
      ],
      "execution_count": 0,
      "outputs": []
    },
    {
      "cell_type": "code",
      "metadata": {
        "colab_type": "code",
        "outputId": "62d69fcd-ac1e-4944-c2f8-9161de25e7c4",
        "id": "U3NWK8HN0p26",
        "colab": {
          "base_uri": "https://localhost:8080/",
          "height": 85
        }
      },
      "source": [
        "whole_dataset_dummies['oldpeak_eq_st_depression_range']=whole_dataset_dummies['oldpeak_eq_st_depression'].transform(oldpeak_eq_st_depression_to_bins)\n",
        "whole_dataset_dummies['oldpeak_eq_st_depression_range'].value_counts()\n"
      ],
      "execution_count": 22,
      "outputs": [
        {
          "output_type": "execute_result",
          "data": {
            "text/plain": [
              "3    129\n",
              "1     81\n",
              "0     60\n",
              "Name: oldpeak_eq_st_depression_range, dtype: int64"
            ]
          },
          "metadata": {
            "tags": []
          },
          "execution_count": 22
        }
      ]
    },
    {
      "cell_type": "code",
      "metadata": {
        "id": "Vdndkosh0nu6",
        "colab_type": "code",
        "colab": {}
      },
      "source": [
        ""
      ],
      "execution_count": 0,
      "outputs": []
    },
    {
      "cell_type": "markdown",
      "metadata": {
        "colab_type": "text",
        "id": "bUmwBouw1xVF"
      },
      "source": [
        "### Resting_blood_pressure"
      ]
    },
    {
      "cell_type": "code",
      "metadata": {
        "colab_type": "code",
        "outputId": "3e4774ba-5699-4cf8-ba77-4f20ba235523",
        "id": "BDlytZRP1xVG",
        "colab": {
          "base_uri": "https://localhost:8080/",
          "height": 297
        }
      },
      "source": [
        "X_train_tmp_label.groupby('resting_blood_pressure')['heart_disease_present'].mean().plot()"
      ],
      "execution_count": 23,
      "outputs": [
        {
          "output_type": "execute_result",
          "data": {
            "text/plain": [
              "<matplotlib.axes._subplots.AxesSubplot at 0x7f3c81ba24e0>"
            ]
          },
          "metadata": {
            "tags": []
          },
          "execution_count": 23
        },
        {
          "output_type": "display_data",
          "data": {
            "image/png": "[encoded data removed]",
            "text/plain": [
              "<Figure size 432x288 with 1 Axes>"
            ]
          },
          "metadata": {
            "tags": []
          }
        }
      ]
    },
    {
      "cell_type": "code",
      "metadata": {
        "colab_type": "code",
        "outputId": "451fe36c-cc11-4157-f41a-3c2e54fbb447",
        "id": "3JP_HjBh1tSu",
        "colab": {
          "base_uri": "https://localhost:8080/",
          "height": 280
        }
      },
      "source": [
        "X_train_tmp_label.groupby('resting_blood_pressure')['heart_disease_present'].mean().plot()\n",
        "resting_blood_pressure_range=[0, 117, 155]\n",
        "for resting_blood_pressure in resting_blood_pressure_range:\n",
        "  plt.axvline(resting_blood_pressure, c='r')\n"
      ],
      "execution_count": 24,
      "outputs": [
        {
          "output_type": "display_data",
          "data": {
            "image/png": "[encoded data removed]",
            "text/plain": [
              "<Figure size 432x288 with 1 Axes>"
            ]
          },
          "metadata": {
            "tags": []
          }
        }
      ]
    },
    {
      "cell_type": "code",
      "metadata": {
        "colab_type": "code",
        "id": "7iNgBTFf1tS0",
        "colab": {}
      },
      "source": [
        "def resting_blood_pressure_to_bins(resting_blood_pressure):\n",
        "  for i in range(len(resting_blood_pressure_range) - 1):\n",
        "    if resting_blood_pressure > resting_blood_pressure_range[i] and resting_blood_pressure <= resting_blood_pressure_range[i+1]:\n",
        "      return i\n",
        "  return len(resting_blood_pressure_range)-1\n"
      ],
      "execution_count": 0,
      "outputs": []
    },
    {
      "cell_type": "code",
      "metadata": {
        "colab_type": "code",
        "outputId": "ebdb6e07-d874-476a-f470-0def575c8a37",
        "id": "0i6ohZ3J1tS2",
        "colab": {
          "base_uri": "https://localhost:8080/",
          "height": 85
        }
      },
      "source": [
        "whole_dataset_dummies['resting_blood_pressure_range']=whole_dataset_dummies['resting_blood_pressure'].transform(resting_blood_pressure_to_bins)\n",
        "whole_dataset_dummies['resting_blood_pressure_range'].value_counts()\n"
      ],
      "execution_count": 26,
      "outputs": [
        {
          "output_type": "execute_result",
          "data": {
            "text/plain": [
              "1    195\n",
              "0     50\n",
              "2     25\n",
              "Name: resting_blood_pressure_range, dtype: int64"
            ]
          },
          "metadata": {
            "tags": []
          },
          "execution_count": 26
        }
      ]
    },
    {
      "cell_type": "markdown",
      "metadata": {
        "colab_type": "text",
        "id": "f48mksfR2agb"
      },
      "source": [
        "### Serum_cholesterol_mg_per_dl"
      ]
    },
    {
      "cell_type": "code",
      "metadata": {
        "colab_type": "code",
        "outputId": "c917861c-e6e8-401b-ffd9-7cb6b9a54807",
        "id": "LI9vqArS2agc",
        "colab": {
          "base_uri": "https://localhost:8080/",
          "height": 297
        }
      },
      "source": [
        "X_train_tmp_label.groupby('serum_cholesterol_mg_per_dl')['heart_disease_present'].mean().plot()"
      ],
      "execution_count": 27,
      "outputs": [
        {
          "output_type": "execute_result",
          "data": {
            "text/plain": [
              "<matplotlib.axes._subplots.AxesSubplot at 0x7f3c81af5128>"
            ]
          },
          "metadata": {
            "tags": []
          },
          "execution_count": 27
        },
        {
          "output_type": "display_data",
          "data": {
            "image/png": "[encoded data removed]",
            "text/plain": [
              "<Figure size 432x288 with 1 Axes>"
            ]
          },
          "metadata": {
            "tags": []
          }
        }
      ]
    },
    {
      "cell_type": "markdown",
      "metadata": {
        "id": "RzHWfGWP3mq-",
        "colab_type": "text"
      },
      "source": [
        "Since the serum_cholesterol_mg_per_dl column is quite noisy, we do not repeat the above steps on it."
      ]
    },
    {
      "cell_type": "markdown",
      "metadata": {
        "id": "LaSy4R-f39t6",
        "colab_type": "text"
      },
      "source": [
        "### Apply pd.get_dummies on the binned columns"
      ]
    },
    {
      "cell_type": "code",
      "metadata": {
        "id": "3rsvNqIq9p73",
        "colab_type": "code",
        "colab": {}
      },
      "source": [
        "original_columns=['age', 'max_heart_rate_achieved', 'oldpeak_eq_st_depression', 'resting_blood_pressure']\n",
        "binned_columns=['age_range', 'max_heart_rate_achieved_range', 'oldpeak_eq_st_depression_range', 'resting_blood_pressure_range']\n",
        "\n",
        "drop_original=True\n",
        "if drop_original:\n",
        "  whole_dataset_dummies.drop(original_columns, axis=1, inplace=True)\n",
        "\n",
        "for col in binned_columns:\n",
        "  whole_dataset_dummies[col]=whole_dataset_dummies[col].astype('object')\n"
      ],
      "execution_count": 0,
      "outputs": []
    },
    {
      "cell_type": "code",
      "metadata": {
        "id": "tOQjXx4Ew3r_",
        "colab_type": "code",
        "outputId": "777641cc-b474-45a6-895f-328d2d3faf24",
        "colab": {
          "base_uri": "https://localhost:8080/",
          "height": 224
        }
      },
      "source": [
        "\n",
        "whole_dataset_dummies=pd.concat([whole_dataset_dummies.drop(binned_columns, axis=1), pd.get_dummies(whole_dataset_dummies[binned_columns], drop_first=True)], axis=1)\n",
        "whole_dataset_dummies.head()"
      ],
      "execution_count": 29,
      "outputs": [
        {
          "output_type": "execute_result",
          "data": {
            "text/html": [
              "<div>\n",
              "<style scoped>\n",
              "    .dataframe tbody tr th:only-of-type {\n",
              "        vertical-align: middle;\n",
              "    }\n",
              "\n",
              "    .dataframe tbody tr th {\n",
              "        vertical-align: top;\n",
              "    }\n",
              "\n",
              "    .dataframe thead th {\n",
              "        text-align: right;\n",
              "    }\n",
              "</style>\n",
              "<table border=\"1\" class=\"dataframe\">\n",
              "  <thead>\n",
              "    <tr style=\"text-align: right;\">\n",
              "      <th></th>\n",
              "      <th>patient_id</th>\n",
              "      <th>serum_cholesterol_mg_per_dl</th>\n",
              "      <th>slope_of_peak_exercise_st_segment_2</th>\n",
              "      <th>slope_of_peak_exercise_st_segment_3</th>\n",
              "      <th>thal_normal</th>\n",
              "      <th>thal_reversible_defect</th>\n",
              "      <th>sex_1</th>\n",
              "      <th>resting_ekg_results_1</th>\n",
              "      <th>resting_ekg_results_2</th>\n",
              "      <th>chest_pain_type_2</th>\n",
              "      <th>chest_pain_type_3</th>\n",
              "      <th>chest_pain_type_4</th>\n",
              "      <th>fasting_blood_sugar_gt_120_mg_per_dl_1</th>\n",
              "      <th>exercise_induced_angina_1</th>\n",
              "      <th>num_major_vessels_1</th>\n",
              "      <th>num_major_vessels_2</th>\n",
              "      <th>num_major_vessels_3</th>\n",
              "      <th>age_range_1</th>\n",
              "      <th>age_range_2</th>\n",
              "      <th>age_range_3</th>\n",
              "      <th>max_heart_rate_achieved_range_1</th>\n",
              "      <th>max_heart_rate_achieved_range_2</th>\n",
              "      <th>oldpeak_eq_st_depression_range_1</th>\n",
              "      <th>oldpeak_eq_st_depression_range_3</th>\n",
              "      <th>resting_blood_pressure_range_1</th>\n",
              "      <th>resting_blood_pressure_range_2</th>\n",
              "    </tr>\n",
              "  </thead>\n",
              "  <tbody>\n",
              "    <tr>\n",
              "      <th>0</th>\n",
              "      <td>0z64un</td>\n",
              "      <td>308</td>\n",
              "      <td>0</td>\n",
              "      <td>0</td>\n",
              "      <td>1</td>\n",
              "      <td>0</td>\n",
              "      <td>1</td>\n",
              "      <td>0</td>\n",
              "      <td>1</td>\n",
              "      <td>1</td>\n",
              "      <td>0</td>\n",
              "      <td>0</td>\n",
              "      <td>0</td>\n",
              "      <td>0</td>\n",
              "      <td>0</td>\n",
              "      <td>0</td>\n",
              "      <td>0</td>\n",
              "      <td>1</td>\n",
              "      <td>0</td>\n",
              "      <td>0</td>\n",
              "      <td>1</td>\n",
              "      <td>0</td>\n",
              "      <td>0</td>\n",
              "      <td>1</td>\n",
              "      <td>1</td>\n",
              "      <td>0</td>\n",
              "    </tr>\n",
              "    <tr>\n",
              "      <th>1</th>\n",
              "      <td>ryoo3j</td>\n",
              "      <td>214</td>\n",
              "      <td>1</td>\n",
              "      <td>0</td>\n",
              "      <td>1</td>\n",
              "      <td>0</td>\n",
              "      <td>0</td>\n",
              "      <td>0</td>\n",
              "      <td>0</td>\n",
              "      <td>0</td>\n",
              "      <td>1</td>\n",
              "      <td>0</td>\n",
              "      <td>0</td>\n",
              "      <td>0</td>\n",
              "      <td>0</td>\n",
              "      <td>0</td>\n",
              "      <td>0</td>\n",
              "      <td>1</td>\n",
              "      <td>0</td>\n",
              "      <td>0</td>\n",
              "      <td>1</td>\n",
              "      <td>0</td>\n",
              "      <td>1</td>\n",
              "      <td>0</td>\n",
              "      <td>0</td>\n",
              "      <td>0</td>\n",
              "    </tr>\n",
              "    <tr>\n",
              "      <th>2</th>\n",
              "      <td>yt1s1x</td>\n",
              "      <td>304</td>\n",
              "      <td>0</td>\n",
              "      <td>0</td>\n",
              "      <td>1</td>\n",
              "      <td>0</td>\n",
              "      <td>1</td>\n",
              "      <td>0</td>\n",
              "      <td>1</td>\n",
              "      <td>0</td>\n",
              "      <td>0</td>\n",
              "      <td>1</td>\n",
              "      <td>0</td>\n",
              "      <td>1</td>\n",
              "      <td>0</td>\n",
              "      <td>0</td>\n",
              "      <td>1</td>\n",
              "      <td>0</td>\n",
              "      <td>0</td>\n",
              "      <td>1</td>\n",
              "      <td>1</td>\n",
              "      <td>0</td>\n",
              "      <td>0</td>\n",
              "      <td>1</td>\n",
              "      <td>1</td>\n",
              "      <td>0</td>\n",
              "    </tr>\n",
              "    <tr>\n",
              "      <th>3</th>\n",
              "      <td>l2xjde</td>\n",
              "      <td>223</td>\n",
              "      <td>0</td>\n",
              "      <td>0</td>\n",
              "      <td>0</td>\n",
              "      <td>1</td>\n",
              "      <td>1</td>\n",
              "      <td>0</td>\n",
              "      <td>0</td>\n",
              "      <td>0</td>\n",
              "      <td>0</td>\n",
              "      <td>1</td>\n",
              "      <td>0</td>\n",
              "      <td>0</td>\n",
              "      <td>0</td>\n",
              "      <td>0</td>\n",
              "      <td>0</td>\n",
              "      <td>0</td>\n",
              "      <td>0</td>\n",
              "      <td>0</td>\n",
              "      <td>0</td>\n",
              "      <td>1</td>\n",
              "      <td>0</td>\n",
              "      <td>1</td>\n",
              "      <td>1</td>\n",
              "      <td>0</td>\n",
              "    </tr>\n",
              "    <tr>\n",
              "      <th>4</th>\n",
              "      <td>oyt4ek</td>\n",
              "      <td>270</td>\n",
              "      <td>0</td>\n",
              "      <td>1</td>\n",
              "      <td>0</td>\n",
              "      <td>1</td>\n",
              "      <td>1</td>\n",
              "      <td>0</td>\n",
              "      <td>1</td>\n",
              "      <td>0</td>\n",
              "      <td>0</td>\n",
              "      <td>0</td>\n",
              "      <td>0</td>\n",
              "      <td>0</td>\n",
              "      <td>0</td>\n",
              "      <td>0</td>\n",
              "      <td>0</td>\n",
              "      <td>0</td>\n",
              "      <td>1</td>\n",
              "      <td>0</td>\n",
              "      <td>1</td>\n",
              "      <td>0</td>\n",
              "      <td>0</td>\n",
              "      <td>1</td>\n",
              "      <td>0</td>\n",
              "      <td>1</td>\n",
              "    </tr>\n",
              "  </tbody>\n",
              "</table>\n",
              "</div>"
            ],
            "text/plain": [
              "  patient_id  ...  resting_blood_pressure_range_2\n",
              "0     0z64un  ...                               0\n",
              "1     ryoo3j  ...                               0\n",
              "2     yt1s1x  ...                               0\n",
              "3     l2xjde  ...                               0\n",
              "4     oyt4ek  ...                               1\n",
              "\n",
              "[5 rows x 26 columns]"
            ]
          },
          "metadata": {
            "tags": []
          },
          "execution_count": 29
        }
      ]
    },
    {
      "cell_type": "code",
      "metadata": {
        "id": "0znVv-tDw3pw",
        "colab_type": "code",
        "colab": {}
      },
      "source": [
        ""
      ],
      "execution_count": 0,
      "outputs": []
    },
    {
      "cell_type": "markdown",
      "metadata": {
        "id": "sKRTbbTZmf37",
        "colab_type": "text"
      },
      "source": [
        "## Separate the dataset to train and test set"
      ]
    },
    {
      "cell_type": "code",
      "metadata": {
        "id": "roiZyNkTtB6T",
        "colab_type": "code",
        "colab": {}
      },
      "source": [
        "X_train_tmp_dummies=whole_dataset_dummies.drop('patient_id', axis=1).iloc[:train_size,:]\n",
        "X_test_dummies=whole_dataset_dummies.drop('patient_id', axis=1).iloc[train_size:,:]\n",
        "y_train_tmp.drop('patient_id', axis=1, inplace=True)\n"
      ],
      "execution_count": 0,
      "outputs": []
    },
    {
      "cell_type": "code",
      "metadata": {
        "id": "tVPGVFBGtLst",
        "colab_type": "code",
        "outputId": "d688a3fc-bbed-4ad5-8048-653463eb26bc",
        "colab": {
          "base_uri": "https://localhost:8080/",
          "height": 474
        }
      },
      "source": [
        "sns.heatmap(X_train_tmp.corr(), annot=True, fmt='.2', )"
      ],
      "execution_count": 31,
      "outputs": [
        {
          "output_type": "execute_result",
          "data": {
            "text/plain": [
              "<matplotlib.axes._subplots.AxesSubplot at 0x7f3c81ac91d0>"
            ]
          },
          "metadata": {
            "tags": []
          },
          "execution_count": 31
        },
        {
          "output_type": "display_data",
          "data": {
            "image/png": "[encoded data removed]",
            "text/plain": [
              "<Figure size 432x288 with 2 Axes>"
            ]
          },
          "metadata": {
            "tags": []
          }
        }
      ]
    },
    {
      "cell_type": "code",
      "metadata": {
        "id": "y6mznZV2U8kK",
        "colab_type": "code",
        "outputId": "f688d9f7-4991-4f11-8ef9-d1f667deaf75",
        "colab": {
          "base_uri": "https://localhost:8080/",
          "height": 34
        }
      },
      "source": [
        "X_train, X_val, y_train, y_val=train_test_split(X_train_tmp_dummies, y_train_tmp, test_size=0.2, random_state=42)\n",
        "X_val.shape"
      ],
      "execution_count": 32,
      "outputs": [
        {
          "output_type": "execute_result",
          "data": {
            "text/plain": [
              "(36, 25)"
            ]
          },
          "metadata": {
            "tags": []
          },
          "execution_count": 32
        }
      ]
    },
    {
      "cell_type": "markdown",
      "metadata": {
        "id": "17-fXN8DB1Cd",
        "colab_type": "text"
      },
      "source": [
        "# Model"
      ]
    },
    {
      "cell_type": "markdown",
      "metadata": {
        "id": "7h5EfRldB3PL",
        "colab_type": "text"
      },
      "source": [
        "## XGB"
      ]
    },
    {
      "cell_type": "code",
      "metadata": {
        "id": "Sot-iC7QWtgA",
        "colab_type": "code",
        "colab": {}
      },
      "source": [
        "params={'max_depth': [1,2,3,4,5],\n",
        "        'learning_rate': [.01,.05,.1,.2,.3,.4,.5],\n",
        "        'n_estimators': [20,25,50,75,100,200],\n",
        "        'colsample_bytree': [.1,.2,.3,]#.5,.7,.9,1.],\n",
        "       }\n",
        "nfold=10"
      ],
      "execution_count": 0,
      "outputs": []
    },
    {
      "cell_type": "code",
      "metadata": {
        "id": "MRmWxmOSXjm-",
        "colab_type": "code",
        "outputId": "75f6ca71-df28-4809-b61f-9c7062fc9ea8",
        "colab": {
          "base_uri": "https://localhost:8080/",
          "height": 258
        }
      },
      "source": [
        "xgbclassifier=XGB.XGBClassifier(n_job=-1,seed=43)\n",
        "gridsearchcv_xgb=GridSearchCV(xgbclassifier, params, cv=nfold, n_jobs=-1, scoring='neg_log_loss',verbose =1)\n",
        "gridsearchcv_xgb.fit(X_train_tmp_dummies, y_train_tmp)\n",
        "print(gridsearchcv_xgb.best_score_)\n",
        "print(gridsearchcv_xgb.best_params_)\n"
      ],
      "execution_count": 34,
      "outputs": [
        {
          "output_type": "stream",
          "text": [
            "Fitting 10 folds for each of 630 candidates, totalling 6300 fits\n"
          ],
          "name": "stdout"
        },
        {
          "output_type": "stream",
          "text": [
            "[Parallel(n_jobs=-1)]: Using backend LokyBackend with 2 concurrent workers.\n",
            "[Parallel(n_jobs=-1)]: Done 188 tasks      | elapsed:    6.5s\n",
            "[Parallel(n_jobs=-1)]: Done 1388 tasks      | elapsed:   31.3s\n",
            "[Parallel(n_jobs=-1)]: Done 3388 tasks      | elapsed:  1.2min\n",
            "[Parallel(n_jobs=-1)]: Done 6188 tasks      | elapsed:  2.3min\n"
          ],
          "name": "stderr"
        },
        {
          "output_type": "stream",
          "text": [
            "-0.381219303357001\n",
            "{'colsample_bytree': 0.1, 'learning_rate': 0.5, 'max_depth': 1, 'n_estimators': 50}\n"
          ],
          "name": "stdout"
        },
        {
          "output_type": "stream",
          "text": [
            "[Parallel(n_jobs=-1)]: Done 6300 out of 6300 | elapsed:  2.4min finished\n",
            "/usr/local/lib/python3.6/dist-packages/sklearn/preprocessing/label.py:219: DataConversionWarning: A column-vector y was passed when a 1d array was expected. Please change the shape of y to (n_samples, ), for example using ravel().\n",
            "  y = column_or_1d(y, warn=True)\n",
            "/usr/local/lib/python3.6/dist-packages/sklearn/preprocessing/label.py:252: DataConversionWarning: A column-vector y was passed when a 1d array was expected. Please change the shape of y to (n_samples, ), for example using ravel().\n",
            "  y = column_or_1d(y, warn=True)\n"
          ],
          "name": "stderr"
        }
      ]
    },
    {
      "cell_type": "code",
      "metadata": {
        "id": "dhB-jalFcOwe",
        "colab_type": "code",
        "outputId": "0446daae-780d-4a6b-9537-b34bffd76f34",
        "colab": {
          "base_uri": "https://localhost:8080/",
          "height": 105
        }
      },
      "source": [
        "xgbclassifier=gridsearchcv_xgb.best_estimator_\n",
        "#xgb_best=xgbclassifier=XGB.XGBClassifier(n_job=-1,seed=43,colsample_bytree=0.2,learning_rate=0.2,max_depth=2,n_estimators=50)\n",
        "xgbclassifier.fit(X_train_tmp_dummies, y_train_tmp)\n",
        "y_test_prob_xgb=xgbclassifier.predict_proba(X_test_dummies)[:,1]"
      ],
      "execution_count": 35,
      "outputs": [
        {
          "output_type": "stream",
          "text": [
            "/usr/local/lib/python3.6/dist-packages/sklearn/preprocessing/label.py:219: DataConversionWarning: A column-vector y was passed when a 1d array was expected. Please change the shape of y to (n_samples, ), for example using ravel().\n",
            "  y = column_or_1d(y, warn=True)\n",
            "/usr/local/lib/python3.6/dist-packages/sklearn/preprocessing/label.py:252: DataConversionWarning: A column-vector y was passed when a 1d array was expected. Please change the shape of y to (n_samples, ), for example using ravel().\n",
            "  y = column_or_1d(y, warn=True)\n"
          ],
          "name": "stderr"
        }
      ]
    },
    {
      "cell_type": "code",
      "metadata": {
        "id": "qpGmcnNnCRrA",
        "colab_type": "code",
        "outputId": "abfebff5-abe3-44cb-d533-fd8026503746",
        "colab": {
          "base_uri": "https://localhost:8080/",
          "height": 900
        }
      },
      "source": [
        "fig, ax=plt.subplots()\n",
        "fig.set_figheight(15)\n",
        "fig.set_figwidth(15)\n",
        "importances=pd.DataFrame({'Features':X_train_tmp_dummies.columns,'Importances':xgbclassifier.feature_importances_}).set_index('Features')\n",
        "importances=importances.sort_values(by='Importances', ascending=True)\n",
        "importances.plot(kind='barh', ax=ax)\n"
      ],
      "execution_count": 36,
      "outputs": [
        {
          "output_type": "execute_result",
          "data": {
            "text/plain": [
              "<matplotlib.axes._subplots.AxesSubplot at 0x7f3c81ba29e8>"
            ]
          },
          "metadata": {
            "tags": []
          },
          "execution_count": 36
        },
        {
          "output_type": "display_data",
          "data": {
            "image/png": "[encoded data removed]",
            "text/plain": [
              "<Figure size 1080x1080 with 1 Axes>"
            ]
          },
          "metadata": {
            "tags": []
          }
        }
      ]
    },
    {
      "cell_type": "code",
      "metadata": {
        "id": "iD0pGOR4TuQE",
        "colab_type": "code",
        "colab": {}
      },
      "source": [
        "#xgbclassifier=XGB.XGBClassifier(max_depth=3, learning_rate=0.01, n_estimators=50, n_job=-1, colsample_bytree =0.5, )\n",
        "#xgbclassifier.fit(X_train, y_train)"
      ],
      "execution_count": 0,
      "outputs": []
    },
    {
      "cell_type": "code",
      "metadata": {
        "id": "VsJvZrqGVuWP",
        "colab_type": "code",
        "outputId": "a27a9e6d-0539-412e-ab4b-c04224dcc672",
        "colab": {
          "base_uri": "https://localhost:8080/",
          "height": 51
        }
      },
      "source": [
        "print(xgbclassifier.score(X_train, y_train))\n",
        "print(xgbclassifier.score(X_val, y_val))"
      ],
      "execution_count": 38,
      "outputs": [
        {
          "output_type": "stream",
          "text": [
            "0.875\n",
            "0.9166666666666666\n"
          ],
          "name": "stdout"
        }
      ]
    },
    {
      "cell_type": "markdown",
      "metadata": {
        "id": "5tuS1WHyB6EE",
        "colab_type": "text"
      },
      "source": [
        "## Random Forest"
      ]
    },
    {
      "cell_type": "code",
      "metadata": {
        "id": "YHjPPS8QCAZV",
        "colab_type": "code",
        "colab": {}
      },
      "source": [
        "params={\n",
        "       'n_estimators':[1,2,5,10,20,50,100,200],\n",
        "       'max_depth':[1,2,5,10,20],\n",
        "       'max_features':[.5,.6,.7,.8,.9,1.],\n",
        "      }\n",
        "nfold=10"
      ],
      "execution_count": 0,
      "outputs": []
    },
    {
      "cell_type": "code",
      "metadata": {
        "id": "AXgpSTGMB5hc",
        "colab_type": "code",
        "outputId": "c631787c-4c7d-4c33-9515-9a3f41c5c4b8",
        "colab": {
          "base_uri": "https://localhost:8080/",
          "height": 258
        }
      },
      "source": [
        "rfc=RandomForestClassifier(random_state=43, n_jobs=-1)\n",
        "\n",
        "gridsearchcv_rfc=GridSearchCV(rfc, params, cv=nfold, n_jobs=-1, scoring='neg_log_loss',verbose =1)\n",
        "gridsearchcv_rfc.fit(X_train_tmp_dummies, y_train_tmp)\n",
        "print(gridsearchcv_rfc.best_score_)\n",
        "print(gridsearchcv_rfc.best_params_)"
      ],
      "execution_count": 40,
      "outputs": [
        {
          "output_type": "stream",
          "text": [
            "Fitting 10 folds for each of 240 candidates, totalling 2400 fits\n"
          ],
          "name": "stdout"
        },
        {
          "output_type": "stream",
          "text": [
            "[Parallel(n_jobs=-1)]: Using backend LokyBackend with 2 concurrent workers.\n",
            "[Parallel(n_jobs=-1)]: Done  46 tasks      | elapsed:    6.4s\n",
            "[Parallel(n_jobs=-1)]: Done 196 tasks      | elapsed:   29.2s\n",
            "[Parallel(n_jobs=-1)]: Done 446 tasks      | elapsed:  1.1min\n",
            "[Parallel(n_jobs=-1)]: Done 796 tasks      | elapsed:  2.0min\n",
            "[Parallel(n_jobs=-1)]: Done 1246 tasks      | elapsed:  3.1min\n",
            "[Parallel(n_jobs=-1)]: Done 1796 tasks      | elapsed:  4.5min\n"
          ],
          "name": "stderr"
        },
        {
          "output_type": "stream",
          "text": [
            "-0.4655283065814731\n",
            "{'max_depth': 2, 'max_features': 0.7, 'n_estimators': 5}\n"
          ],
          "name": "stdout"
        },
        {
          "output_type": "stream",
          "text": [
            "[Parallel(n_jobs=-1)]: Done 2400 out of 2400 | elapsed:  6.0min finished\n",
            "/usr/local/lib/python3.6/dist-packages/sklearn/model_selection/_search.py:715: DataConversionWarning: A column-vector y was passed when a 1d array was expected. Please change the shape of y to (n_samples,), for example using ravel().\n",
            "  self.best_estimator_.fit(X, y, **fit_params)\n"
          ],
          "name": "stderr"
        }
      ]
    },
    {
      "cell_type": "code",
      "metadata": {
        "id": "4gFX_PK2gNhu",
        "colab_type": "code",
        "outputId": "768058d1-f6fc-4e20-dbf8-eb536f778adc",
        "colab": {
          "base_uri": "https://localhost:8080/",
          "height": 71
        }
      },
      "source": [
        "rfc=gridsearchcv_rfc.best_estimator_\n",
        "rfc.fit(X_train_tmp_dummies, y_train_tmp)\n",
        "y_test_prob_rfc=rfc.predict_proba(X_test_dummies)[:,1]\n"
      ],
      "execution_count": 41,
      "outputs": [
        {
          "output_type": "stream",
          "text": [
            "/usr/local/lib/python3.6/dist-packages/ipykernel_launcher.py:2: DataConversionWarning: A column-vector y was passed when a 1d array was expected. Please change the shape of y to (n_samples,), for example using ravel().\n",
            "  \n"
          ],
          "name": "stderr"
        }
      ]
    },
    {
      "cell_type": "code",
      "metadata": {
        "id": "7I2KsXboqPkB",
        "colab_type": "code",
        "outputId": "6ec892af-0299-4623-83d8-a7a426458538",
        "colab": {
          "base_uri": "https://localhost:8080/",
          "height": 900
        }
      },
      "source": [
        "fig, ax=plt.subplots()\n",
        "fig.set_figheight(15)\n",
        "fig.set_figwidth(15)\n",
        "importances=pd.DataFrame({'Features':X_train_tmp_dummies.columns,'Importances':rfc.feature_importances_}).set_index('Features')\n",
        "importances=importances.sort_values(by='Importances', ascending=True)\n",
        "importances.plot(kind='barh', ax=ax)\n"
      ],
      "execution_count": 42,
      "outputs": [
        {
          "output_type": "execute_result",
          "data": {
            "text/plain": [
              "<matplotlib.axes._subplots.AxesSubplot at 0x7f3c81cb62e8>"
            ]
          },
          "metadata": {
            "tags": []
          },
          "execution_count": 42
        },
        {
          "output_type": "display_data",
          "data": {
            "image/png": "[encoded data removed]",
            "text/plain": [
              "<Figure size 1080x1080 with 1 Axes>"
            ]
          },
          "metadata": {
            "tags": []
          }
        }
      ]
    },
    {
      "cell_type": "code",
      "metadata": {
        "id": "LzAh5N7zqVO4",
        "colab_type": "code",
        "outputId": "a585caa3-b430-4fc3-b77d-75327cf62c93",
        "colab": {
          "base_uri": "https://localhost:8080/",
          "height": 51
        }
      },
      "source": [
        "print(rfc.score(X_train, y_train))\n",
        "print(rfc.score(X_val, y_val))"
      ],
      "execution_count": 43,
      "outputs": [
        {
          "output_type": "stream",
          "text": [
            "0.7708333333333334\n",
            "0.7777777777777778\n"
          ],
          "name": "stdout"
        }
      ]
    },
    {
      "cell_type": "markdown",
      "metadata": {
        "id": "l_p-Tt30TmH0",
        "colab_type": "text"
      },
      "source": [
        "## Logistic Regression"
      ]
    },
    {
      "cell_type": "code",
      "metadata": {
        "id": "xcp7rlKBVdPx",
        "colab_type": "code",
        "colab": {}
      },
      "source": [
        "feature_scaler=StandardScaler()\n",
        "X_train_tmp_scaled=feature_scaler.fit_transform(X_train_tmp_dummies)\n",
        "X_test_scaled=feature_scaler.transform(X_test_dummies)"
      ],
      "execution_count": 0,
      "outputs": []
    },
    {
      "cell_type": "code",
      "metadata": {
        "id": "eGC_nAuTTorR",
        "colab_type": "code",
        "colab": {}
      },
      "source": [
        "params={\n",
        "        'C': [.05,.1, .2,.5,1.],\n",
        "        'solver': ['newton-cg', 'lbfgs', 'liblinear', 'sag', 'saga'],\n",
        "        'max_iter':[50, 100, 150, 200]\n",
        "        }\n",
        "nfold=10"
      ],
      "execution_count": 0,
      "outputs": []
    },
    {
      "cell_type": "code",
      "metadata": {
        "id": "ES3bIVHATqtR",
        "colab_type": "code",
        "outputId": "a2ad54e7-c306-46c1-8af1-23a072702a8b",
        "colab": {
          "base_uri": "https://localhost:8080/",
          "height": 224
        }
      },
      "source": [
        "logreg=LogisticRegression(random_state=43, n_jobs=-1)\n",
        "\n",
        "gridsearchcv_logreg=GridSearchCV(logreg, params, cv=nfold, n_jobs=-1, scoring='neg_log_loss',verbose =1)\n",
        "gridsearchcv_logreg.fit(X_train_tmp_scaled, y_train_tmp)\n",
        "print(gridsearchcv_logreg.best_score_)\n",
        "print(gridsearchcv_logreg.best_params_)"
      ],
      "execution_count": 46,
      "outputs": [
        {
          "output_type": "stream",
          "text": [
            "Fitting 10 folds for each of 100 candidates, totalling 1000 fits\n"
          ],
          "name": "stdout"
        },
        {
          "output_type": "stream",
          "text": [
            "[Parallel(n_jobs=-1)]: Using backend LokyBackend with 2 concurrent workers.\n",
            "[Parallel(n_jobs=-1)]: Done  98 tasks      | elapsed:    6.4s\n",
            "[Parallel(n_jobs=-1)]: Done 698 tasks      | elapsed:   32.7s\n"
          ],
          "name": "stderr"
        },
        {
          "output_type": "stream",
          "text": [
            "-0.39398249238814087\n",
            "{'C': 0.1, 'max_iter': 50, 'solver': 'liblinear'}\n"
          ],
          "name": "stdout"
        },
        {
          "output_type": "stream",
          "text": [
            "[Parallel(n_jobs=-1)]: Done 1000 out of 1000 | elapsed:   46.0s finished\n",
            "/usr/local/lib/python3.6/dist-packages/sklearn/utils/validation.py:724: DataConversionWarning: A column-vector y was passed when a 1d array was expected. Please change the shape of y to (n_samples, ), for example using ravel().\n",
            "  y = column_or_1d(y, warn=True)\n",
            "/usr/local/lib/python3.6/dist-packages/sklearn/linear_model/logistic.py:1544: UserWarning: 'n_jobs' > 1 does not have any effect when 'solver' is set to 'liblinear'. Got 'n_jobs' = 2.\n",
            "  \" = {}.\".format(effective_n_jobs(self.n_jobs)))\n"
          ],
          "name": "stderr"
        }
      ]
    },
    {
      "cell_type": "code",
      "metadata": {
        "id": "8eKpc7ONfvse",
        "colab_type": "code",
        "outputId": "da194a6a-414a-4a62-9183-710c7cf4f003",
        "colab": {
          "base_uri": "https://localhost:8080/",
          "height": 105
        }
      },
      "source": [
        "logreg=gridsearchcv_logreg.best_estimator_\n",
        "logreg.fit(X_train_tmp_scaled, y_train_tmp)\n",
        "y_test_prob_logreg=logreg.predict_proba(X_test_scaled)[:,1]"
      ],
      "execution_count": 47,
      "outputs": [
        {
          "output_type": "stream",
          "text": [
            "/usr/local/lib/python3.6/dist-packages/sklearn/utils/validation.py:724: DataConversionWarning: A column-vector y was passed when a 1d array was expected. Please change the shape of y to (n_samples, ), for example using ravel().\n",
            "  y = column_or_1d(y, warn=True)\n",
            "/usr/local/lib/python3.6/dist-packages/sklearn/linear_model/logistic.py:1544: UserWarning: 'n_jobs' > 1 does not have any effect when 'solver' is set to 'liblinear'. Got 'n_jobs' = 2.\n",
            "  \" = {}.\".format(effective_n_jobs(self.n_jobs)))\n"
          ],
          "name": "stderr"
        }
      ]
    },
    {
      "cell_type": "markdown",
      "metadata": {
        "id": "x_WipIkXbMB8",
        "colab_type": "text"
      },
      "source": [
        "## SVM"
      ]
    },
    {
      "cell_type": "code",
      "metadata": {
        "id": "0vUONze4fXmA",
        "colab_type": "code",
        "colab": {}
      },
      "source": [
        "feature_scaler=StandardScaler()\n",
        "X_train_tmp_scaled=feature_scaler.fit_transform(X_train_tmp_dummies)\n",
        "X_test_scaled=feature_scaler.transform(X_test_dummies)"
      ],
      "execution_count": 0,
      "outputs": []
    },
    {
      "cell_type": "code",
      "metadata": {
        "id": "YBzt-L3XbQHU",
        "colab_type": "code",
        "colab": {}
      },
      "source": [
        "params={\n",
        "    'C': [.1,.2,.5,1.,2.],\n",
        "    'kernel': ['linear', 'poly', 'rbf', 'sigmoid',],\n",
        "    'degree':[1,2,],\n",
        "    'gamma':['auto'],\n",
        "    'max_iter':[50,100,150,200],\n",
        "    'coef0':[.2,.5,1.,2.]\n",
        "}\n",
        "nfold=10"
      ],
      "execution_count": 0,
      "outputs": []
    },
    {
      "cell_type": "code",
      "metadata": {
        "id": "EpE8xB_8bLiO",
        "colab_type": "code",
        "outputId": "d75b4c72-1a80-42a7-f28e-1d7da23a4659",
        "colab": {
          "base_uri": "https://localhost:8080/",
          "height": 224
        }
      },
      "source": [
        "svm=SVC(probability=True, random_state=43,)\n",
        "\n",
        "gridsearchcv_svm=GridSearchCV(svm, params, cv=nfold, n_jobs=-1, scoring='neg_log_loss',verbose =1)\n",
        "gridsearchcv_svm.fit(X_train_tmp_scaled, y_train_tmp)\n",
        "print(gridsearchcv_svm.best_score_)\n",
        "print(gridsearchcv_svm.best_params_)"
      ],
      "execution_count": 50,
      "outputs": [
        {
          "output_type": "stream",
          "text": [
            "Fitting 10 folds for each of 640 candidates, totalling 6400 fits\n"
          ],
          "name": "stdout"
        },
        {
          "output_type": "stream",
          "text": [
            "[Parallel(n_jobs=-1)]: Using backend LokyBackend with 2 concurrent workers.\n",
            "[Parallel(n_jobs=-1)]: Done 330 tasks      | elapsed:    4.8s\n",
            "[Parallel(n_jobs=-1)]: Done 2730 tasks      | elapsed:   24.4s\n"
          ],
          "name": "stderr"
        },
        {
          "output_type": "stream",
          "text": [
            "-0.37821733659832224\n",
            "{'C': 1.0, 'coef0': 0.2, 'degree': 1, 'gamma': 'auto', 'kernel': 'sigmoid', 'max_iter': 100}\n"
          ],
          "name": "stdout"
        },
        {
          "output_type": "stream",
          "text": [
            "[Parallel(n_jobs=-1)]: Done 6400 out of 6400 | elapsed:   52.9s finished\n",
            "/usr/local/lib/python3.6/dist-packages/sklearn/utils/validation.py:724: DataConversionWarning: A column-vector y was passed when a 1d array was expected. Please change the shape of y to (n_samples, ), for example using ravel().\n",
            "  y = column_or_1d(y, warn=True)\n",
            "/usr/local/lib/python3.6/dist-packages/sklearn/svm/base.py:241: ConvergenceWarning: Solver terminated early (max_iter=100).  Consider pre-processing your data with StandardScaler or MinMaxScaler.\n",
            "  % self.max_iter, ConvergenceWarning)\n"
          ],
          "name": "stderr"
        }
      ]
    },
    {
      "cell_type": "code",
      "metadata": {
        "id": "1Qa3t7b8eWly",
        "colab_type": "code",
        "outputId": "b81eae6b-6fb5-4a59-cbc1-c1e2c69d5e9c",
        "colab": {
          "base_uri": "https://localhost:8080/",
          "height": 105
        }
      },
      "source": [
        "svm=gridsearchcv_svm.best_estimator_\n",
        "svm.fit(X_train_tmp_scaled, y_train_tmp)\n",
        "y_test_prob_svm=svm.predict_proba(X_test_scaled)[:,1]"
      ],
      "execution_count": 51,
      "outputs": [
        {
          "output_type": "stream",
          "text": [
            "/usr/local/lib/python3.6/dist-packages/sklearn/utils/validation.py:724: DataConversionWarning: A column-vector y was passed when a 1d array was expected. Please change the shape of y to (n_samples, ), for example using ravel().\n",
            "  y = column_or_1d(y, warn=True)\n",
            "/usr/local/lib/python3.6/dist-packages/sklearn/svm/base.py:241: ConvergenceWarning: Solver terminated early (max_iter=100).  Consider pre-processing your data with StandardScaler or MinMaxScaler.\n",
            "  % self.max_iter, ConvergenceWarning)\n"
          ],
          "name": "stderr"
        }
      ]
    },
    {
      "cell_type": "markdown",
      "metadata": {
        "id": "SHKASGwcXDnx",
        "colab_type": "text"
      },
      "source": [
        "## AdaBoost"
      ]
    },
    {
      "cell_type": "code",
      "metadata": {
        "id": "PwQzOKlPXGTj",
        "colab_type": "code",
        "colab": {}
      },
      "source": [
        "feature_scaler=StandardScaler()\n",
        "X_train_tmp_scaled=feature_scaler.fit_transform(X_train_tmp_dummies)\n",
        "X_test_scaled=feature_scaler.transform(X_test_dummies)"
      ],
      "execution_count": 0,
      "outputs": []
    },
    {
      "cell_type": "code",
      "metadata": {
        "id": "ucwFrrUSXNt8",
        "colab_type": "code",
        "colab": {}
      },
      "source": [
        "params={\n",
        "        'n_estimators':[10,20,50,100],\n",
        "        'learning_rate':[.05,.1,.2,.5],\n",
        "        }"
      ],
      "execution_count": 0,
      "outputs": []
    },
    {
      "cell_type": "code",
      "metadata": {
        "id": "nyWXcB39XOf7",
        "colab_type": "code",
        "outputId": "e91a3ba2-cf1a-4d86-99ad-1803436001ef",
        "colab": {
          "base_uri": "https://localhost:8080/",
          "height": 173
        }
      },
      "source": [
        "adaboost=AdaBoostClassifier(base_estimator=DecisionTreeClassifier(max_depth=3,random_state=43),random_state=43)\n",
        "\n",
        "gridsearchcv_adaboost=GridSearchCV(adaboost, params, cv=nfold, n_jobs=-1, scoring='neg_log_loss',verbose =1)\n",
        "gridsearchcv_adaboost=gridsearchcv_adaboost.fit(X_train_tmp_scaled, y_train_tmp)\n",
        "print(gridsearchcv_adaboost.best_score_)\n",
        "print(gridsearchcv_adaboost.best_params_)"
      ],
      "execution_count": 54,
      "outputs": [
        {
          "output_type": "stream",
          "text": [
            "Fitting 10 folds for each of 16 candidates, totalling 160 fits\n"
          ],
          "name": "stdout"
        },
        {
          "output_type": "stream",
          "text": [
            "[Parallel(n_jobs=-1)]: Using backend LokyBackend with 2 concurrent workers.\n",
            "[Parallel(n_jobs=-1)]: Done  70 tasks      | elapsed:    6.1s\n"
          ],
          "name": "stderr"
        },
        {
          "output_type": "stream",
          "text": [
            "-0.5454518607100839\n",
            "{'learning_rate': 0.1, 'n_estimators': 100}\n"
          ],
          "name": "stdout"
        },
        {
          "output_type": "stream",
          "text": [
            "[Parallel(n_jobs=-1)]: Done 160 out of 160 | elapsed:   13.0s finished\n",
            "/usr/local/lib/python3.6/dist-packages/sklearn/utils/validation.py:724: DataConversionWarning: A column-vector y was passed when a 1d array was expected. Please change the shape of y to (n_samples, ), for example using ravel().\n",
            "  y = column_or_1d(y, warn=True)\n"
          ],
          "name": "stderr"
        }
      ]
    },
    {
      "cell_type": "markdown",
      "metadata": {
        "id": "1vH-RLKlDBtk",
        "colab_type": "text"
      },
      "source": [
        "# Submission\n"
      ]
    },
    {
      "cell_type": "code",
      "metadata": {
        "id": "LEWXE4CnVxQX",
        "colab_type": "code",
        "colab": {}
      },
      "source": [
        "submission=sample_submission.copy()\n",
        "submission.heart_disease_present=(y_test_prob_xgb+y_test_prob_svm+y_test_prob_logreg)/3#+y_test_prob_rfc)/4"
      ],
      "execution_count": 0,
      "outputs": []
    },
    {
      "cell_type": "code",
      "metadata": {
        "id": "-vrjexW6f6lo",
        "colab_type": "code",
        "colab": {}
      },
      "source": [
        "submission.to_csv('submission.csv',index=False)"
      ],
      "execution_count": 0,
      "outputs": []
    },
    {
      "cell_type": "code",
      "metadata": {
        "id": "fXzWj0KKf90y",
        "colab_type": "code",
        "colab": {}
      },
      "source": [
        "from google.colab import files\n",
        "\n",
        "\n",
        "files.download('submission.csv')"
      ],
      "execution_count": 0,
      "outputs": []
    }
  ]
}